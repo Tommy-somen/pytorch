{
  "nbformat": 4,
  "nbformat_minor": 0,
  "metadata": {
    "colab": {
      "name": "pytorchのNN構築基礎.ipynb",
      "provenance": [],
      "collapsed_sections": [],
      "include_colab_link": true
    },
    "kernelspec": {
      "name": "python3",
      "display_name": "Python 3"
    }
  },
  "cells": [
    {
      "cell_type": "markdown",
      "metadata": {
        "id": "view-in-github",
        "colab_type": "text"
      },
      "source": [
        "<a href=\"https://colab.research.google.com/github/Tommy-somen/pytorch/blob/master/udemy/pytorch%E3%81%AENN%E6%A7%8B%E7%AF%89%E5%9F%BA%E7%A4%8E.ipynb\" target=\"_parent\"><img src=\"https://colab.research.google.com/assets/colab-badge.svg\" alt=\"Open In Colab\"/></a>"
      ]
    },
    {
      "cell_type": "markdown",
      "metadata": {
        "id": "Niaz8_W6OX34"
      },
      "source": [
        "# 演習\n",
        "第2講の演習です。  \n",
        "PyTorchを使ってモデルを構築し、最適化アルゴリズムを設定しましょう。\n"
      ]
    },
    {
      "cell_type": "markdown",
      "metadata": {
        "id": "w40h1X0FXmrh"
      },
      "source": [
        "## データを訓練用とテスト用に分割"
      ]
    },
    {
      "cell_type": "code",
      "source": [
        "import torch\n",
        "from sklearn import datasets\n",
        "from sklearn.model_selection import train_test_split"
      ],
      "metadata": {
        "id": "tUyOP_AL8FlK"
      },
      "execution_count": null,
      "outputs": []
    },
    {
      "cell_type": "code",
      "source": [
        "#数字データの取得\n",
        "digit_data = datasets.load_digits()"
      ],
      "metadata": {
        "id": "2hUSIK0S8Kc3"
      },
      "execution_count": null,
      "outputs": []
    },
    {
      "cell_type": "code",
      "source": [
        "#トレーニング用の画像データを用意\n",
        "digit_images = digit_data.data\n",
        "digit_images"
      ],
      "metadata": {
        "colab": {
          "base_uri": "https://localhost:8080/"
        },
        "id": "Q121R1fY8Kf1",
        "outputId": "5eb576e9-500d-4374-fcfb-beecb8407fa8"
      },
      "execution_count": null,
      "outputs": [
        {
          "output_type": "execute_result",
          "data": {
            "text/plain": [
              "array([[ 0.,  0.,  5., ...,  0.,  0.,  0.],\n",
              "       [ 0.,  0.,  0., ..., 10.,  0.,  0.],\n",
              "       [ 0.,  0.,  0., ..., 16.,  9.,  0.],\n",
              "       ...,\n",
              "       [ 0.,  0.,  1., ...,  6.,  0.,  0.],\n",
              "       [ 0.,  0.,  2., ..., 12.,  0.,  0.],\n",
              "       [ 0.,  0., 10., ..., 12.,  1.,  0.]])"
            ]
          },
          "metadata": {},
          "execution_count": 75
        }
      ]
    },
    {
      "cell_type": "code",
      "source": [
        "import matplotlib.pyplot as plt\n",
        "for i in range(10):\n",
        "  ax = plt.subplot(2, 5,i+1)\n",
        "  image = digit_images[i].reshape(8,8)\n",
        "  ax.get_xaxis().set_visible(False)\n",
        "  ax.get_yaxis().set_visible(False)\n",
        "  plt.imshow(image)\n",
        "  plt.plot()"
      ],
      "metadata": {
        "colab": {
          "base_uri": "https://localhost:8080/",
          "height": 211
        },
        "id": "R32rc0zxBeBT",
        "outputId": "377e3aa0-de83-41fc-e63e-557e856a6ff7"
      },
      "execution_count": null,
      "outputs": [
        {
          "output_type": "display_data",
          "data": {
            "image/png": "[encoded data removed]",
            "text/plain": [
              "<Figure size 432x288 with 10 Axes>"
            ]
          },
          "metadata": {
            "needs_background": "light"
          }
        }
      ]
    },
    {
      "cell_type": "code",
      "source": [
        "#画像に対する解答データの取得\n",
        "digit_labels = digit_data.target\n",
        "digit_labels"
      ],
      "metadata": {
        "colab": {
          "base_uri": "https://localhost:8080/"
        },
        "id": "kaSBDONJ8Kim",
        "outputId": "2a5e5911-d681-4eb2-ab51-d1e2f20c4034"
      },
      "execution_count": null,
      "outputs": [
        {
          "output_type": "execute_result",
          "data": {
            "text/plain": [
              "array([0, 1, 2, ..., 8, 9, 8])"
            ]
          },
          "metadata": {},
          "execution_count": 77
        }
      ]
    },
    {
      "cell_type": "code",
      "source": [
        "#取得済みの画像情報と、解答データについて分割する\n",
        "x_train, x_test, y_train, y_test = train_test_split(digit_images, digit_labels)"
      ],
      "metadata": {
        "id": "LuaEL0ps9BVU"
      },
      "execution_count": null,
      "outputs": []
    },
    {
      "cell_type": "code",
      "source": [
        "#訓練データ並びにテストデータについて、tensor変換を行う\n",
        "\n",
        "#訓練データ\n",
        "x_train = torch.tensor(x_train, dtype=torch.float32)\n",
        "y_train = torch.tensor(y_train, dtype=torch.int64)\n",
        "\n",
        "#テストデータ\n",
        "x_test = torch.tensor(x_test, dtype=torch.float32)\n",
        "y_test = torch.tensor(y_test, dtype=torch.int64)"
      ],
      "metadata": {
        "id": "MdoYhSiR9BXr"
      },
      "execution_count": null,
      "outputs": []
    },
    {
      "cell_type": "code",
      "source": [
        "x_train, y_train"
      ],
      "metadata": {
        "colab": {
          "base_uri": "https://localhost:8080/"
        },
        "id": "cV2S0NBj9BeF",
        "outputId": "04a45fe6-efec-4760-f72b-891dca5bc227"
      },
      "execution_count": null,
      "outputs": [
        {
          "output_type": "execute_result",
          "data": {
            "text/plain": [
              "(tensor([[ 0.,  0.,  0.,  ..., 16.,  9.,  0.],\n",
              "         [ 0.,  0., 12.,  ...,  0.,  0.,  0.],\n",
              "         [ 0.,  0.,  0.,  ...,  5.,  0.,  0.],\n",
              "         ...,\n",
              "         [ 0.,  0.,  3.,  ...,  8.,  0.,  0.],\n",
              "         [ 0.,  3., 15.,  ...,  0.,  0.,  0.],\n",
              "         [ 0.,  0., 13.,  ...,  0.,  0.,  0.]]),\n",
              " tensor([3, 5, 1,  ..., 2, 7, 5]))"
            ]
          },
          "metadata": {},
          "execution_count": 80
        }
      ]
    },
    {
      "cell_type": "code",
      "source": [
        "x_test, y_test"
      ],
      "metadata": {
        "colab": {
          "base_uri": "https://localhost:8080/"
        },
        "id": "85_alVu4Sve4",
        "outputId": "0f812fe3-b139-4da8-a7eb-f9d6d70aa847"
      },
      "execution_count": null,
      "outputs": [
        {
          "output_type": "execute_result",
          "data": {
            "text/plain": [
              "(tensor([[ 0.,  0., 10.,  ..., 16., 16., 11.],\n",
              "         [ 0.,  0.,  0.,  ..., 15., 10.,  0.],\n",
              "         [ 0.,  0.,  7.,  ...,  0.,  0.,  0.],\n",
              "         ...,\n",
              "         [ 0.,  0.,  6.,  ...,  0.,  0.,  0.],\n",
              "         [ 0.,  0., 10.,  ...,  0.,  0.,  0.],\n",
              "         [ 0.,  0.,  2.,  ...,  0.,  0.,  0.]]),\n",
              " tensor([1, 6, 7, 6, 6, 3, 5, 6, 9, 0, 3, 7, 7, 2, 1, 2, 1, 2, 8, 9, 4, 6, 6, 0,\n",
              "         2, 5, 5, 0, 2, 5, 8, 1, 2, 1, 0, 4, 7, 7, 0, 7, 3, 1, 6, 8, 9, 5, 8, 3,\n",
              "         8, 5, 7, 8, 6, 7, 5, 1, 7, 8, 8, 3, 2, 5, 8, 9, 4, 3, 7, 2, 2, 4, 2, 7,\n",
              "         4, 3, 5, 9, 8, 4, 9, 0, 9, 3, 2, 0, 3, 8, 9, 6, 5, 7, 6, 5, 0, 8, 7, 8,\n",
              "         6, 9, 2, 1, 7, 8, 6, 0, 3, 0, 8, 9, 4, 8, 1, 4, 5, 0, 6, 5, 2, 0, 5, 8,\n",
              "         7, 7, 6, 4, 3, 7, 3, 9, 3, 2, 5, 8, 8, 3, 4, 9, 3, 7, 7, 5, 1, 4, 5, 8,\n",
              "         3, 0, 2, 2, 5, 5, 2, 1, 9, 4, 0, 9, 2, 5, 5, 6, 3, 4, 9, 4, 5, 9, 6, 3,\n",
              "         9, 0, 4, 7, 3, 5, 5, 6, 0, 5, 9, 2, 9, 4, 7, 0, 3, 5, 9, 4, 0, 8, 6, 2,\n",
              "         5, 7, 9, 2, 2, 1, 6, 5, 8, 5, 6, 0, 3, 6, 1, 3, 8, 1, 3, 1, 3, 8, 5, 3,\n",
              "         2, 3, 1, 5, 6, 1, 7, 5, 8, 6, 7, 6, 4, 4, 5, 2, 6, 3, 4, 8, 9, 4, 3, 1,\n",
              "         6, 8, 9, 5, 8, 0, 6, 0, 4, 6, 1, 8, 3, 3, 3, 5, 0, 5, 8, 7, 3, 2, 4, 6,\n",
              "         1, 4, 8, 3, 7, 7, 1, 4, 1, 0, 3, 6, 7, 9, 5, 3, 8, 2, 1, 3, 9, 1, 6, 9,\n",
              "         4, 5, 8, 7, 2, 6, 1, 5, 7, 7, 1, 1, 1, 3, 0, 4, 5, 0, 3, 7, 1, 4, 2, 6,\n",
              "         5, 5, 2, 8, 7, 6, 6, 4, 9, 9, 5, 4, 2, 2, 8, 6, 3, 4, 3, 3, 2, 0, 7, 3,\n",
              "         6, 7, 1, 3, 6, 0, 6, 9, 2, 0, 5, 6, 7, 0, 6, 6, 6, 1, 3, 1, 0, 1, 2, 8,\n",
              "         4, 9, 8, 9, 1, 2, 0, 7, 2, 4, 3, 6, 5, 5, 4, 4, 1, 8, 8, 4, 3, 1, 0, 6,\n",
              "         7, 0, 4, 9, 6, 8, 6, 3, 1, 0, 2, 1, 3, 4, 8, 7, 7, 5, 0, 7, 6, 8, 1, 4,\n",
              "         8, 2, 9, 8, 4, 3, 4, 0, 1, 1, 1, 7, 1, 9, 5, 1, 2, 1, 3, 7, 7, 7, 4, 3,\n",
              "         6, 5, 7, 2, 4, 1, 0, 4, 5, 6, 4, 2, 5, 6, 8, 7, 7, 7]))"
            ]
          },
          "metadata": {},
          "execution_count": 81
        }
      ]
    },
    {
      "cell_type": "code",
      "source": [
        ""
      ],
      "metadata": {
        "id": "CKEkwEZZSviK"
      },
      "execution_count": null,
      "outputs": []
    },
    {
      "cell_type": "markdown",
      "metadata": {
        "id": "FalXNYaJPkoE"
      },
      "source": [
        "## モデルの構築\n",
        "`nn`モジュールの`Sequential`クラスを使い、`print(net)`で以下のように表示されるモデルを構築しましょう。\n",
        "```\n",
        "Sequential(\n",
        "  (0): Linear(in_features=64, out_features=128, bias=True)\n",
        "  (1): ReLU()\n",
        "  (2): Linear(in_features=128, out_features=64, bias=True)\n",
        "  (3): ReLU()\n",
        "  (4): Linear(in_features=64, out_features=10, bias=True)\n",
        ")\n",
        "```"
      ]
    },
    {
      "cell_type": "code",
      "source": [
        "#NN用のライブラリ\n",
        "from torch import nn"
      ],
      "metadata": {
        "id": "nIbJ-S3Y-uUr"
      },
      "execution_count": null,
      "outputs": []
    },
    {
      "cell_type": "code",
      "source": [
        "#NN用のライブラリ\n",
        "from torch import nn\n",
        "\n",
        "model = nn.Sequential(\n",
        "    #入力は8*8の64のため、64とし、出力層で32\n",
        "    nn.Linear(64,32),\n",
        "    nn.ReLU(),\n",
        "    nn.Linear(32,16),\n",
        "    nn.ReLU(),\n",
        "    nn.Linear(16,10)\n",
        ")"
      ],
      "metadata": {
        "id": "yfNqNAFg-uP6"
      },
      "execution_count": null,
      "outputs": []
    },
    {
      "cell_type": "code",
      "source": [
        "print(model)"
      ],
      "metadata": {
        "colab": {
          "base_uri": "https://localhost:8080/"
        },
        "id": "Ldxrh-Sl-uNf",
        "outputId": "becdc723-64c2-4653-fc35-90d16980f686"
      },
      "execution_count": null,
      "outputs": [
        {
          "output_type": "stream",
          "name": "stdout",
          "text": [
            "Sequential(\n",
            "  (0): Linear(in_features=64, out_features=32, bias=True)\n",
            "  (1): ReLU()\n",
            "  (2): Linear(in_features=32, out_features=16, bias=True)\n",
            "  (3): ReLU()\n",
            "  (4): Linear(in_features=16, out_features=10, bias=True)\n",
            ")\n"
          ]
        }
      ]
    },
    {
      "cell_type": "code",
      "source": [
        ""
      ],
      "metadata": {
        "id": "-fAFjO86-uKm"
      },
      "execution_count": null,
      "outputs": []
    },
    {
      "cell_type": "markdown",
      "metadata": {
        "id": "qsW5zCKhQE9p"
      },
      "source": [
        "## 学習\n",
        "モデルを訓練します。  \n",
        "最適化アルゴリズムの設定をしましょう。  \n",
        "最適化アルゴリズムは、以下のページから好きなものを選択してください。  \n",
        "https://pytorch.org/docs/stable/optim.html\n",
        "\n",
        "\n"
      ]
    },
    {
      "cell_type": "code",
      "source": [
        "from torch import optim"
      ],
      "metadata": {
        "id": "rkc99M90FBDg"
      },
      "execution_count": null,
      "outputs": []
    },
    {
      "cell_type": "code",
      "source": [
        "#誤差関数\n",
        "loss = nn.CrossEntropyLoss()"
      ],
      "metadata": {
        "id": "ZtLb5wrwFBGh"
      },
      "execution_count": null,
      "outputs": []
    },
    {
      "cell_type": "code",
      "source": [
        "#最適化アルゴリズム -> Ada,\n",
        "optimizer = optim.Adam(model.parameters(), lr=0.001)"
      ],
      "metadata": {
        "id": "ZsF9JA-dFBJN"
      },
      "execution_count": null,
      "outputs": []
    },
    {
      "cell_type": "code",
      "source": [
        "#学習を実施する ->エポックは1000に設定\n",
        "def train(model, loss, optimizer, epoch, x_train, x_test, y_train, y_test):\n",
        "  \n",
        "  #損失状況に関するログの作成\n",
        "  rec_loss_train = []\n",
        "  rec_loss_test = []\n",
        "\n",
        "  for i in range(epoch):\n",
        "\n",
        "    #勾配を0に設定\n",
        "    optimizer.zero_grad()\n",
        "\n",
        "    #順伝播する\n",
        "    pred_train = model(x_train) #学習モデルの予測値y^\n",
        "    pred_test = model(x_test) #学習後モデルによるテストデータの予測値y^\n",
        "\n",
        "    #学習後の誤差を求める -> y^とyの誤差を求める\n",
        "    loss_train = loss(pred_train, y_train) \n",
        "    loss_test = loss(pred_test, y_test)\n",
        "    rec_loss_train.append(loss_train.item())\n",
        "    rec_loss_test.append(loss_test.item())\n",
        "\n",
        "    #逆伝播を求める\n",
        "    loss_train.backward()\n",
        "\n",
        "    #最適化関数の更新\n",
        "    optimizer.step()\n",
        "\n",
        "    if i%10 == 0:\n",
        "      print(\"Epoch\", i, \"Loss_Train:\", loss_train.item(), \"Loss_Test:\", loss_test.item())\n",
        "\n",
        "  return rec_loss_train, rec_loss_test"
      ],
      "metadata": {
        "id": "zc98G1jjFBPW"
      },
      "execution_count": null,
      "outputs": []
    },
    {
      "cell_type": "code",
      "source": [
        "#学習の実行\n",
        "rec_train, rec_test = train(model, loss, optimizer,1000, x_train, x_test, y_train, y_test)"
      ],
      "metadata": {
        "colab": {
          "base_uri": "https://localhost:8080/"
        },
        "id": "wDbgJnW4Pidz",
        "outputId": "6e24b28c-bcf7-4d9c-c553-1f031ef00154"
      },
      "execution_count": null,
      "outputs": [
        {
          "output_type": "stream",
          "name": "stdout",
          "text": [
            "Epoch 0 Loss_Train: 2.4991941452026367 Loss_Test: 2.4926483631134033\n",
            "Epoch 10 Loss_Train: 2.1429617404937744 Loss_Test: 2.1379642486572266\n",
            "Epoch 20 Loss_Train: 1.892822265625 Loss_Test: 1.8835245370864868\n",
            "Epoch 30 Loss_Train: 1.6084243059158325 Loss_Test: 1.5976598262786865\n",
            "Epoch 40 Loss_Train: 1.2824733257293701 Loss_Test: 1.2662469148635864\n",
            "Epoch 50 Loss_Train: 0.963320791721344 Loss_Test: 0.953738808631897\n",
            "Epoch 60 Loss_Train: 0.7026974558830261 Loss_Test: 0.7015042304992676\n",
            "Epoch 70 Loss_Train: 0.5079938769340515 Loss_Test: 0.5298100709915161\n",
            "Epoch 80 Loss_Train: 0.3560654819011688 Loss_Test: 0.3966578245162964\n",
            "Epoch 90 Loss_Train: 0.24347081780433655 Loss_Test: 0.2952701449394226\n",
            "Epoch 100 Loss_Train: 0.18367882072925568 Loss_Test: 0.24148063361644745\n",
            "Epoch 110 Loss_Train: 0.14836513996124268 Loss_Test: 0.21094349026679993\n",
            "Epoch 120 Loss_Train: 0.12398948520421982 Loss_Test: 0.19035710394382477\n",
            "Epoch 130 Loss_Train: 0.10616131871938705 Loss_Test: 0.17681723833084106\n",
            "Epoch 140 Loss_Train: 0.09255823493003845 Loss_Test: 0.1677566021680832\n",
            "Epoch 150 Loss_Train: 0.08168990910053253 Loss_Test: 0.16120418906211853\n",
            "Epoch 160 Loss_Train: 0.07276870310306549 Loss_Test: 0.15568754076957703\n",
            "Epoch 170 Loss_Train: 0.06528916209936142 Loss_Test: 0.1515754908323288\n",
            "Epoch 180 Loss_Train: 0.05891222879290581 Loss_Test: 0.14802826941013336\n",
            "Epoch 190 Loss_Train: 0.053370922803878784 Loss_Test: 0.14476250112056732\n",
            "Epoch 200 Loss_Train: 0.04850391671061516 Loss_Test: 0.14200927317142487\n",
            "Epoch 210 Loss_Train: 0.04417070373892784 Loss_Test: 0.1394137442111969\n",
            "Epoch 220 Loss_Train: 0.04030091315507889 Loss_Test: 0.13724160194396973\n",
            "Epoch 230 Loss_Train: 0.036880072206258774 Loss_Test: 0.13523036241531372\n",
            "Epoch 240 Loss_Train: 0.03379465639591217 Loss_Test: 0.13370434939861298\n",
            "Epoch 250 Loss_Train: 0.031013935804367065 Loss_Test: 0.1322888433933258\n",
            "Epoch 260 Loss_Train: 0.02851981297135353 Loss_Test: 0.13073481619358063\n",
            "Epoch 270 Loss_Train: 0.02627572789788246 Loss_Test: 0.12932205200195312\n",
            "Epoch 280 Loss_Train: 0.024244610220193863 Loss_Test: 0.1283264011144638\n",
            "Epoch 290 Loss_Train: 0.022409169003367424 Loss_Test: 0.12772881984710693\n",
            "Epoch 300 Loss_Train: 0.020748058333992958 Loss_Test: 0.1270788162946701\n",
            "Epoch 310 Loss_Train: 0.019228236749768257 Loss_Test: 0.12655813992023468\n",
            "Epoch 320 Loss_Train: 0.017841264605522156 Loss_Test: 0.12608197331428528\n",
            "Epoch 330 Loss_Train: 0.01657392829656601 Loss_Test: 0.1258900910615921\n",
            "Epoch 340 Loss_Train: 0.015413371846079826 Loss_Test: 0.12572155892848969\n",
            "Epoch 350 Loss_Train: 0.01435247715562582 Loss_Test: 0.12558294832706451\n",
            "Epoch 360 Loss_Train: 0.013381416909396648 Loss_Test: 0.12540669739246368\n",
            "Epoch 370 Loss_Train: 0.012489644810557365 Loss_Test: 0.1253880262374878\n",
            "Epoch 380 Loss_Train: 0.011677904054522514 Loss_Test: 0.12543216347694397\n",
            "Epoch 390 Loss_Train: 0.01093350537121296 Loss_Test: 0.12550318241119385\n",
            "Epoch 400 Loss_Train: 0.010250196792185307 Loss_Test: 0.12547612190246582\n",
            "Epoch 410 Loss_Train: 0.00962540227919817 Loss_Test: 0.12549151480197906\n",
            "Epoch 420 Loss_Train: 0.009051459841430187 Loss_Test: 0.12558262050151825\n",
            "Epoch 430 Loss_Train: 0.008523634634912014 Loss_Test: 0.1258086860179901\n",
            "Epoch 440 Loss_Train: 0.008037320338189602 Loss_Test: 0.1260039061307907\n",
            "Epoch 450 Loss_Train: 0.007587586995214224 Loss_Test: 0.12615549564361572\n",
            "Epoch 460 Loss_Train: 0.007172735873609781 Loss_Test: 0.12639714777469635\n",
            "Epoch 470 Loss_Train: 0.0067896428517997265 Loss_Test: 0.12671923637390137\n",
            "Epoch 480 Loss_Train: 0.006434606853872538 Loss_Test: 0.1268521398305893\n",
            "Epoch 490 Loss_Train: 0.006105727981775999 Loss_Test: 0.12710155546665192\n",
            "Epoch 500 Loss_Train: 0.005800154991447926 Loss_Test: 0.12739410996437073\n",
            "Epoch 510 Loss_Train: 0.00551627716049552 Loss_Test: 0.12765179574489594\n",
            "Epoch 520 Loss_Train: 0.005251145921647549 Loss_Test: 0.12784872949123383\n",
            "Epoch 530 Loss_Train: 0.00500308396294713 Loss_Test: 0.12802842259407043\n",
            "Epoch 540 Loss_Train: 0.004771044943481684 Loss_Test: 0.1283441185951233\n",
            "Epoch 550 Loss_Train: 0.0045532225631177425 Loss_Test: 0.12868471443653107\n",
            "Epoch 560 Loss_Train: 0.004349555354565382 Loss_Test: 0.12891902029514313\n",
            "Epoch 570 Loss_Train: 0.0041580344550311565 Loss_Test: 0.1291612684726715\n",
            "Epoch 580 Loss_Train: 0.003978235647082329 Loss_Test: 0.12951193749904633\n",
            "Epoch 590 Loss_Train: 0.003809068351984024 Loss_Test: 0.1298680603504181\n",
            "Epoch 600 Loss_Train: 0.003650675993412733 Loss_Test: 0.13021808862686157\n",
            "Epoch 610 Loss_Train: 0.0035017456393688917 Loss_Test: 0.13055899739265442\n",
            "Epoch 620 Loss_Train: 0.0033614453859627247 Loss_Test: 0.1309645026922226\n",
            "Epoch 630 Loss_Train: 0.0032297216821461916 Loss_Test: 0.13143998384475708\n",
            "Epoch 640 Loss_Train: 0.003105190582573414 Loss_Test: 0.13173212110996246\n",
            "Epoch 650 Loss_Train: 0.0029880378860980272 Loss_Test: 0.132079616189003\n",
            "Epoch 660 Loss_Train: 0.002876896411180496 Loss_Test: 0.13244089484214783\n",
            "Epoch 670 Loss_Train: 0.00277157686650753 Loss_Test: 0.13277605175971985\n",
            "Epoch 680 Loss_Train: 0.0026715544518083334 Loss_Test: 0.13316696882247925\n",
            "Epoch 690 Loss_Train: 0.002576676895841956 Loss_Test: 0.13365909457206726\n",
            "Epoch 700 Loss_Train: 0.0024865097366273403 Loss_Test: 0.13402287662029266\n",
            "Epoch 710 Loss_Train: 0.00240091560408473 Loss_Test: 0.13447445631027222\n",
            "Epoch 720 Loss_Train: 0.0023196940310299397 Loss_Test: 0.134910449385643\n",
            "Epoch 730 Loss_Train: 0.0022421374451369047 Loss_Test: 0.13519808650016785\n",
            "Epoch 740 Loss_Train: 0.002168739913031459 Loss_Test: 0.13558754324913025\n",
            "Epoch 750 Loss_Train: 0.002098528202623129 Loss_Test: 0.13594494760036469\n",
            "Epoch 760 Loss_Train: 0.002031827112659812 Loss_Test: 0.1363866627216339\n",
            "Epoch 770 Loss_Train: 0.001968150958418846 Loss_Test: 0.1367042511701584\n",
            "Epoch 780 Loss_Train: 0.0019075305899605155 Loss_Test: 0.13706664741039276\n",
            "Epoch 790 Loss_Train: 0.0018495359690859914 Loss_Test: 0.13741962611675262\n",
            "Epoch 800 Loss_Train: 0.001794236246496439 Loss_Test: 0.13770648837089539\n",
            "Epoch 810 Loss_Train: 0.001741349115036428 Loss_Test: 0.13809441030025482\n",
            "Epoch 820 Loss_Train: 0.0016906054224818945 Loss_Test: 0.1384885013103485\n",
            "Epoch 830 Loss_Train: 0.0016420924803242087 Loss_Test: 0.13868936896324158\n",
            "Epoch 840 Loss_Train: 0.0015956617426127195 Loss_Test: 0.13898585736751556\n",
            "Epoch 850 Loss_Train: 0.0015511001693084836 Loss_Test: 0.13932867348194122\n",
            "Epoch 860 Loss_Train: 0.001508308108896017 Loss_Test: 0.13961128890514374\n",
            "Epoch 870 Loss_Train: 0.0014673074474558234 Loss_Test: 0.13983552157878876\n",
            "Epoch 880 Loss_Train: 0.0014278118032962084 Loss_Test: 0.14018839597702026\n",
            "Epoch 890 Loss_Train: 0.0013899296754971147 Loss_Test: 0.14043262600898743\n",
            "Epoch 900 Loss_Train: 0.0013533049495890737 Loss_Test: 0.1407398134469986\n",
            "Epoch 910 Loss_Train: 0.0013179599773138762 Loss_Test: 0.14099250733852386\n",
            "Epoch 920 Loss_Train: 0.001284003839828074 Loss_Test: 0.1412888914346695\n",
            "Epoch 930 Loss_Train: 0.0012513271067291498 Loss_Test: 0.14155921339988708\n",
            "Epoch 940 Loss_Train: 0.0012199090560898185 Loss_Test: 0.14184679090976715\n",
            "Epoch 950 Loss_Train: 0.0011895502684637904 Loss_Test: 0.14212384819984436\n",
            "Epoch 960 Loss_Train: 0.0011601500445976853 Loss_Test: 0.14235664904117584\n",
            "Epoch 970 Loss_Train: 0.0011318445904180408 Loss_Test: 0.14260411262512207\n",
            "Epoch 980 Loss_Train: 0.0011045377468690276 Loss_Test: 0.14289967715740204\n",
            "Epoch 990 Loss_Train: 0.00107818644028157 Loss_Test: 0.14316853880882263\n"
          ]
        }
      ]
    },
    {
      "cell_type": "markdown",
      "metadata": {
        "id": "rJwwrWTw43rx"
      },
      "source": [
        "## 誤差の推移"
      ]
    },
    {
      "cell_type": "code",
      "metadata": {
        "id": "OaJx4swE45XI",
        "colab": {
          "base_uri": "https://localhost:8080/",
          "height": 279
        },
        "outputId": "19d82ac5-77e8-42a9-8909-739207334a76"
      },
      "source": [
        "import matplotlib.pyplot as plt\n",
        "\n",
        "plt.plot(range(len(rec_train)), rec_train, label=\"Train\")\n",
        "plt.plot(range(len(rec_test)), rec_test, label=\"Test\")\n",
        "plt.legend()\n",
        "\n",
        "plt.xlabel(\"Epochs\")\n",
        "plt.ylabel(\"Error\")\n",
        "plt.show()"
      ],
      "execution_count": null,
      "outputs": [
        {
          "output_type": "display_data",
          "data": {
            "image/png": "[encoded data removed]",
            "text/plain": [
              "<Figure size 432x288 with 1 Axes>"
            ]
          },
          "metadata": {
            "needs_background": "light"
          }
        }
      ]
    },
    {
      "cell_type": "markdown",
      "metadata": {
        "id": "iMrpac0m4Nct"
      },
      "source": [
        "## 正解率"
      ]
    },
    {
      "cell_type": "code",
      "metadata": {
        "id": "IRkGCYMM_N35",
        "colab": {
          "base_uri": "https://localhost:8080/",
          "height": 205
        },
        "outputId": "7138febc-3ff0-40ff-f81a-6a2bbbb9f08c"
      },
      "source": [
        "y_test = model(x_test)\n",
        "count = (y_test.argmax(1) == y_test).sum().item()\n",
        "print(\"正解率:\", str(count/len(y_test)*100) + \"%\")"
      ],
      "execution_count": null,
      "outputs": [
        {
          "output_type": "error",
          "ename": "RuntimeError",
          "evalue": "ignored",
          "traceback": [
            "\u001b[0;31m---------------------------------------------------------------------------\u001b[0m",
            "\u001b[0;31mRuntimeError\u001b[0m                              Traceback (most recent call last)",
            "\u001b[0;32m<ipython-input-111-3d5b712ff13f>\u001b[0m in \u001b[0;36m<module>\u001b[0;34m()\u001b[0m\n\u001b[1;32m      1\u001b[0m \u001b[0my_test\u001b[0m \u001b[0;34m=\u001b[0m \u001b[0mmodel\u001b[0m\u001b[0;34m(\u001b[0m\u001b[0mx_test\u001b[0m\u001b[0;34m)\u001b[0m\u001b[0;34m\u001b[0m\u001b[0;34m\u001b[0m\u001b[0m\n\u001b[0;32m----> 2\u001b[0;31m \u001b[0mcount\u001b[0m \u001b[0;34m=\u001b[0m \u001b[0;34m(\u001b[0m\u001b[0my_test\u001b[0m\u001b[0;34m.\u001b[0m\u001b[0margmax\u001b[0m\u001b[0;34m(\u001b[0m\u001b[0;36m1\u001b[0m\u001b[0;34m)\u001b[0m \u001b[0;34m==\u001b[0m \u001b[0my_test\u001b[0m\u001b[0;34m)\u001b[0m\u001b[0;34m.\u001b[0m\u001b[0msum\u001b[0m\u001b[0;34m(\u001b[0m\u001b[0;34m)\u001b[0m\u001b[0;34m.\u001b[0m\u001b[0mitem\u001b[0m\u001b[0;34m(\u001b[0m\u001b[0;34m)\u001b[0m\u001b[0;34m\u001b[0m\u001b[0;34m\u001b[0m\u001b[0m\n\u001b[0m\u001b[1;32m      3\u001b[0m \u001b[0mprint\u001b[0m\u001b[0;34m(\u001b[0m\u001b[0;34m\"正解率:\"\u001b[0m\u001b[0;34m,\u001b[0m \u001b[0mstr\u001b[0m\u001b[0;34m(\u001b[0m\u001b[0mcount\u001b[0m\u001b[0;34m/\u001b[0m\u001b[0mlen\u001b[0m\u001b[0;34m(\u001b[0m\u001b[0my_test\u001b[0m\u001b[0;34m)\u001b[0m\u001b[0;34m*\u001b[0m\u001b[0;36m100\u001b[0m\u001b[0;34m)\u001b[0m \u001b[0;34m+\u001b[0m \u001b[0;34m\"%\"\u001b[0m\u001b[0;34m)\u001b[0m\u001b[0;34m\u001b[0m\u001b[0;34m\u001b[0m\u001b[0m\n",
            "\u001b[0;31mRuntimeError\u001b[0m: The size of tensor a (450) must match the size of tensor b (10) at non-singleton dimension 1"
          ]
        }
      ]
    },
    {
      "cell_type": "markdown",
      "metadata": {
        "id": "maAJN2wa0l1D"
      },
      "source": [
        "# 解答例\n",
        "以下は、どうしても手がかりがないときのみ参考にしましょう。"
      ]
    },
    {
      "cell_type": "code",
      "metadata": {
        "id": "rQagvzyDmDA5"
      },
      "source": [
        "from torch import nn\n",
        "\n",
        "net = nn.Sequential(\n",
        "    # ------- ここからコードを記述 -------\n",
        "    nn.Linear(64, 128),  # 全結合層\n",
        "    nn.ReLU(),          # ReLU\n",
        "    nn.Linear(128, 64),\n",
        "    nn.ReLU(),\n",
        "    nn.Linear(64, 10)\n",
        "    # ------- ここまで -------\n",
        ")\n",
        "print(net)"
      ],
      "execution_count": null,
      "outputs": []
    },
    {
      "cell_type": "code",
      "metadata": {
        "id": "ARNSvRFTmDI1"
      },
      "source": [
        "from torch import optim\n",
        "\n",
        "# 交差エントロピー誤差関数\n",
        "loss_fnc = nn.CrossEntropyLoss()\n",
        "\n",
        "# 最適化アルゴリズム\n",
        "optimizer = optim.Adam(net.parameters())  # ここにコードを記述\n",
        "\n",
        "# 損失のログ\n",
        "record_loss_train = []\n",
        "record_loss_test = []\n",
        "\n",
        "# 1000エポック学習\n",
        "for i in range(1000):\n",
        "\n",
        "    # 勾配を0に\n",
        "    optimizer.zero_grad()\n",
        "    \n",
        "    # 順伝播\n",
        "    y_train = net(x_train)\n",
        "    y_test = net(x_test)\n",
        "    \n",
        "    # 誤差を求める\n",
        "    loss_train = loss_fnc(y_train, t_train)\n",
        "    loss_test = loss_fnc(y_test, t_test)\n",
        "    record_loss_train.append(loss_train.item())\n",
        "    record_loss_test.append(loss_test.item())\n",
        "\n",
        "    # 逆伝播（勾配を求める）\n",
        "    loss_train.backward()\n",
        "    \n",
        "    # パラメータの更新\n",
        "    optimizer.step()\n",
        "\n",
        "    if i%100 == 0:\n",
        "        print(\"Epoch:\", i, \"Loss_Train:\", loss_train.item(), \"Loss_Test:\", loss_test.item())"
      ],
      "execution_count": null,
      "outputs": []
    }
  ]
}